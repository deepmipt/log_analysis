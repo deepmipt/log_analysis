{
 "cells": [
  {
   "cell_type": "code",
   "execution_count": null,
   "metadata": {},
   "outputs": [],
   "source": [
    "from datetime import datetime, date\n",
    "\n",
    "import pandas as pd\n",
    "import matplotlib.pyplot as plt\n",
    "\n",
    "from log_info import call_update_log_df, make_reports\n",
    "\n",
    "\n",
    "pd.set_option('display.max_colwidth', 200)"
   ]
  },
  {
   "cell_type": "code",
   "execution_count": null,
   "metadata": {},
   "outputs": [],
   "source": [
    "log_df: pd.DataFrame = call_update_log_df()"
   ]
  },
  {
   "cell_type": "markdown",
   "metadata": {},
   "source": [
    "**Enter report dates**"
   ]
  },
  {
   "cell_type": "markdown",
   "metadata": {},
   "source": [
    "**_______**"
   ]
  },
  {
   "cell_type": "code",
   "execution_count": null,
   "metadata": {},
   "outputs": [],
   "source": [
    "begin_date = date(year=2018, month=12, day=15)\n",
    "end_date = date(year=2018, month=12, day=18)"
   ]
  },
  {
   "cell_type": "markdown",
   "metadata": {},
   "source": [
    "**______**"
   ]
  },
  {
   "cell_type": "code",
   "execution_count": null,
   "metadata": {},
   "outputs": [],
   "source": [
    "log_df_filtered = log_df[(log_df['date'] >= begin_date) & (log_df['date'] <= end_date)]"
   ]
  },
  {
   "cell_type": "code",
   "execution_count": null,
   "metadata": {},
   "outputs": [],
   "source": [
    "make_reports(log_df_filtered)\n",
    "print(f'Done generating reports for period {str(begin_date)} to {str(end_date)}')\n",
    "\n",
    "log_df_outer_requests = log_df_filtered[log_df_filtered['outer_request'] == True]\n",
    "report_columns = ['date','resource_group', 'request']\n",
    "groupby_columns = ['date','resource_group']\n",
    "log_df_groped = log_df_outer_requests[report_columns].groupby(groupby_columns)\n",
    "log_df_groped_count = log_df_groped.count()\n",
    "\n",
    "fig, ax = plt.subplots(figsize=(15,10))\n",
    "plot = log_df_groped_count['request'].unstack().plot(kind='bar', ax=ax, stacked=True)"
   ]
  }
 ],
 "metadata": {
  "kernelspec": {
   "display_name": "Python 3",
   "language": "python",
   "name": "python3"
  },
  "language_info": {
   "codemirror_mode": {
    "name": "ipython",
    "version": 3
   },
   "file_extension": ".py",
   "mimetype": "text/x-python",
   "name": "python",
   "nbconvert_exporter": "python",
   "pygments_lexer": "ipython3",
   "version": "3.6.3"
  }
 },
 "nbformat": 4,
 "nbformat_minor": 2
}
