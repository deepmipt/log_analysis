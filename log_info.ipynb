{
 "cells": [
  {
   "cell_type": "code",
   "execution_count": null,
   "metadata": {},
   "outputs": [],
   "source": [
    "from datetime import datetime, date\n",
    "from pathlib import Path\n",
    "\n",
    "import pandas as pd\n",
    "import matplotlib.pyplot as plt\n",
    "\n",
    "from model.log_dataframe import LogDataFrame\n",
    "from model.log_configs import RAW_FILES_LOG_CONFIG, PROCESSED_FILES_LOG_CONFIG\n",
    "\n",
    "\n",
    "pd.set_option('display.max_colwidth', 200)"
   ]
  },
  {
   "cell_type": "code",
   "execution_count": null,
   "metadata": {},
   "outputs": [],
   "source": [
    "raw_ldf = LogDataFrame(RAW_FILES_LOG_CONFIG)\n",
    "log_ldf = LogDataFrame(PROCESSED_FILES_LOG_CONFIG)\n",
    "df_raw_updated = raw_ldf.update()\n",
    "\n",
    "if df_raw_updated is not None:\n",
    "    df_upd = log_ldf.update(raw_ldf.df())\n",
    "\n",
    "df_log = log_ldf.df()"
   ]
  },
  {
   "cell_type": "markdown",
   "metadata": {},
   "source": [
    "**Enter report dates**"
   ]
  },
  {
   "cell_type": "markdown",
   "metadata": {},
   "source": [
    "**_______**"
   ]
  },
  {
   "cell_type": "code",
   "execution_count": null,
   "metadata": {},
   "outputs": [],
   "source": [
    "begin_date = date(year=2017, month=1, day=1)\n",
    "end_date = date(year=2019, month=12, day=31)"
   ]
  },
  {
   "cell_type": "markdown",
   "metadata": {},
   "source": [
    "**______**"
   ]
  },
  {
   "cell_type": "code",
   "execution_count": null,
   "metadata": {},
   "outputs": [],
   "source": [
    "df_log_filtered = df_log[(df_log['date'] >= begin_date) & (df_log['date'] <= end_date) & (df_log['response_code'] == '200')]\n",
    "\n",
    "report_columns = ['date','resource_group', 'resource', 'outer_request', 'country_from', 'city_from', 'request']\n",
    "groupby_columns = ['date','resource_group', 'resource', 'outer_request', 'country_from', 'city_from']\n",
    "df_log_groupby = df_log_filtered[report_columns].groupby(groupby_columns)\n",
    "\n",
    "report_path = Path('reports/resources_download.csv').resolve()\n",
    "report_path.parent.mkdir(exist_ok=True)\n",
    "df_log_groupby.count().to_csv(report_path, header=True)\n",
    "\n",
    "print(f'Done generating reports for period {str(begin_date)} to {str(end_date)}')\n",
    "\n",
    "df_log_outer_requests = df_log_filtered[df_log_filtered['outer_request'] == True]\n",
    "report_columns = ['date','resource_group', 'request']\n",
    "groupby_columns = ['date','resource_group']\n",
    "df_log_groped = df_log_outer_requests[report_columns].groupby(groupby_columns)\n",
    "df_log_groped_count = df_log_groped.count()\n",
    "\n",
    "fig, ax = plt.subplots(figsize=(15,10))\n",
    "plot = df_log_groped_count['request'].unstack().plot(kind='bar', ax=ax, stacked=True)"
   ]
  }
 ],
 "metadata": {
  "kernelspec": {
   "display_name": "Python 3",
   "language": "python",
   "name": "python3"
  },
  "language_info": {
   "codemirror_mode": {
    "name": "ipython",
    "version": 3
   },
   "file_extension": ".py",
   "mimetype": "text/x-python",
   "name": "python",
   "nbconvert_exporter": "python",
   "pygments_lexer": "ipython3",
   "version": "3.6.7"
  }
 },
 "nbformat": 4,
 "nbformat_minor": 2
}
