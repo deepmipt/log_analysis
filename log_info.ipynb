{
 "cells": [
  {
   "cell_type": "code",
   "execution_count": 6,
   "metadata": {},
   "outputs": [],
   "source": [
    "from datetime import datetime, date\n",
    "\n",
    "import pandas as pd\n",
    "\n",
    "from log_info import update_log_df, call_update_log_df\n",
    "\n",
    "\n",
    "pd.set_option('display.max_colwidth', 200)"
   ]
  },
  {
   "cell_type": "code",
   "execution_count": 7,
   "metadata": {},
   "outputs": [
    {
     "name": "stdout",
     "output_type": "stream",
     "text": [
      "Processing file /home/madlit/dev/nginx/access.log.4.gz\n",
      "Processing file /home/madlit/dev/nginx/access.log.9.gz\n",
      "Processing file /home/madlit/dev/nginx/access.log.2.gz\n",
      "Processing file /home/madlit/dev/nginx/access.log.11.gz\n",
      "Processing file /home/madlit/dev/nginx/access.log.6.gz\n",
      "Processing file /home/madlit/dev/nginx/access.log.5.gz\n",
      "Processing file /home/madlit/dev/nginx/access.log.13.gz\n",
      "Processing file /home/madlit/dev/nginx/access.log.7.gz\n",
      "Processing file /home/madlit/dev/nginx/access.log.3.gz\n",
      "Processing file /home/madlit/dev/nginx/access.log.12.gz\n",
      "Processing file /home/madlit/dev/nginx/access.log.1\n",
      "Processing file /home/madlit/dev/nginx/access.log.10.gz\n",
      "Processing file /home/madlit/dev/nginx/access.log.14.gz\n",
      "Processing file /home/madlit/dev/nginx/access.log\n",
      "Processing file /home/madlit/dev/nginx/access.log.8.gz\n"
     ]
    }
   ],
   "source": [
    "log_df: pd.DataFrame = call_update_log_df()"
   ]
  },
  {
   "cell_type": "markdown",
   "metadata": {},
   "source": [
    "**Enter report dates**"
   ]
  },
  {
   "cell_type": "markdown",
   "metadata": {},
   "source": [
    "**_______**"
   ]
  },
  {
   "cell_type": "code",
   "execution_count": 3,
   "metadata": {},
   "outputs": [],
   "source": [
    "begin_date = date(year=2018, month=12, day=10)\n",
    "end_date = date(year=2018, month=12, day=18)"
   ]
  },
  {
   "cell_type": "markdown",
   "metadata": {},
   "source": [
    "**______**"
   ]
  },
  {
   "cell_type": "code",
   "execution_count": 5,
   "metadata": {},
   "outputs": [
    {
     "name": "stdout",
     "output_type": "stream",
     "text": [
      "Download statistics from 2018-12-10 to 2018-12-18\n"
     ]
    },
    {
     "data": {
      "text/html": [
       "<div>\n",
       "<style scoped>\n",
       "    .dataframe tbody tr th:only-of-type {\n",
       "        vertical-align: middle;\n",
       "    }\n",
       "\n",
       "    .dataframe tbody tr th {\n",
       "        vertical-align: top;\n",
       "    }\n",
       "\n",
       "    .dataframe thead th {\n",
       "        text-align: right;\n",
       "    }\n",
       "</style>\n",
       "<table border=\"1\" class=\"dataframe\">\n",
       "  <thead>\n",
       "    <tr style=\"text-align: right;\">\n",
       "      <th></th>\n",
       "      <th></th>\n",
       "      <th>resource</th>\n",
       "    </tr>\n",
       "    <tr>\n",
       "      <th>outer_request</th>\n",
       "      <th>resource_group</th>\n",
       "      <th></th>\n",
       "    </tr>\n",
       "  </thead>\n",
       "  <tbody>\n",
       "    <tr>\n",
       "      <th rowspan=\"7\" valign=\"top\">False</th>\n",
       "      <th>datasets</th>\n",
       "      <td>1118</td>\n",
       "    </tr>\n",
       "    <tr>\n",
       "      <th>deeppavlov_data</th>\n",
       "      <td>2503</td>\n",
       "    </tr>\n",
       "    <tr>\n",
       "      <th>ecommerce_skill</th>\n",
       "      <td>632</td>\n",
       "    </tr>\n",
       "    <tr>\n",
       "      <th>embeddings</th>\n",
       "      <td>585</td>\n",
       "    </tr>\n",
       "    <tr>\n",
       "      <th>faq</th>\n",
       "      <td>795</td>\n",
       "    </tr>\n",
       "    <tr>\n",
       "      <th>lang_models</th>\n",
       "      <td>149</td>\n",
       "    </tr>\n",
       "    <tr>\n",
       "      <th>vectorizer</th>\n",
       "      <td>78</td>\n",
       "    </tr>\n",
       "    <tr>\n",
       "      <th rowspan=\"12\" valign=\"top\">True</th>\n",
       "      <th>datasets</th>\n",
       "      <td>343</td>\n",
       "    </tr>\n",
       "    <tr>\n",
       "      <th>deeppavlov_data</th>\n",
       "      <td>706</td>\n",
       "    </tr>\n",
       "    <tr>\n",
       "      <th>deepreply_data</th>\n",
       "      <td>3</td>\n",
       "    </tr>\n",
       "    <tr>\n",
       "      <th>ecommerce_skill</th>\n",
       "      <td>6</td>\n",
       "    </tr>\n",
       "    <tr>\n",
       "      <th>embeddings</th>\n",
       "      <td>343</td>\n",
       "    </tr>\n",
       "    <tr>\n",
       "      <th>faq</th>\n",
       "      <td>54</td>\n",
       "    </tr>\n",
       "    <tr>\n",
       "      <th>lang_models</th>\n",
       "      <td>12</td>\n",
       "    </tr>\n",
       "    <tr>\n",
       "      <th>ner</th>\n",
       "      <td>2</td>\n",
       "    </tr>\n",
       "    <tr>\n",
       "      <th>vectorizer</th>\n",
       "      <td>7</td>\n",
       "    </tr>\n",
       "    <tr>\n",
       "      <th>vemgmtss.html</th>\n",
       "      <td>1</td>\n",
       "    </tr>\n",
       "    <tr>\n",
       "      <th>yad</th>\n",
       "      <td>12</td>\n",
       "    </tr>\n",
       "    <tr>\n",
       "      <th>yt_dl</th>\n",
       "      <td>2</td>\n",
       "    </tr>\n",
       "  </tbody>\n",
       "</table>\n",
       "</div>"
      ],
      "text/plain": [
       "                               resource\n",
       "outer_request resource_group           \n",
       "False         datasets             1118\n",
       "              deeppavlov_data      2503\n",
       "              ecommerce_skill       632\n",
       "              embeddings            585\n",
       "              faq                   795\n",
       "              lang_models           149\n",
       "              vectorizer             78\n",
       "True          datasets              343\n",
       "              deeppavlov_data       706\n",
       "              deepreply_data          3\n",
       "              ecommerce_skill         6\n",
       "              embeddings            343\n",
       "              faq                    54\n",
       "              lang_models            12\n",
       "              ner                     2\n",
       "              vectorizer              7\n",
       "              vemgmtss.html           1\n",
       "              yad                    12\n",
       "              yt_dl                   2"
      ]
     },
     "execution_count": 5,
     "metadata": {},
     "output_type": "execute_result"
    }
   ],
   "source": [
    "log_df_filtered = log_df[(log_df['date'] >= begin_date) & (log_df['date'] <= end_date)]\n",
    "report_columns = ['outer_request', 'resource_group', 'resource']\n",
    "groupby_columns = ['outer_request', 'resource_group']\n",
    "log_df_groped = log_df_filtered[report_columns].groupby(groupby_columns)\n",
    "print(f'Download statistics from {str(begin_date)} to {str(end_date)}')\n",
    "log_df_groped.count()"
   ]
  },
  {
   "cell_type": "code",
   "execution_count": null,
   "metadata": {},
   "outputs": [],
   "source": []
  }
 ],
 "metadata": {
  "kernelspec": {
   "display_name": "Python 3",
   "language": "python",
   "name": "python3"
  },
  "language_info": {
   "codemirror_mode": {
    "name": "ipython",
    "version": 3
   },
   "file_extension": ".py",
   "mimetype": "text/x-python",
   "name": "python",
   "nbconvert_exporter": "python",
   "pygments_lexer": "ipython3",
   "version": "3.6.3"
  }
 },
 "nbformat": 4,
 "nbformat_minor": 2
}
