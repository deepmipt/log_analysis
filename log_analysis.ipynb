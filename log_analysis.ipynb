{
 "cells": [
  {
   "cell_type": "code",
   "execution_count": 41,
   "metadata": {},
   "outputs": [],
   "source": [
    "import re\n",
    "import pickle\n",
    "from copy import deepcopy\n",
    "from pathlib import Path\n",
    "from typing import Optional, List, Union, Tuple\n",
    "from pprint import pprint\n",
    "\n",
    "import pandas as pd"
   ]
  },
  {
   "cell_type": "code",
   "execution_count": 42,
   "metadata": {},
   "outputs": [],
   "source": [
    "LOG_FILE_PATH = 'access.log.1'\n",
    "LOG_PICKLE_PATH = 'access.log.1.pckl'"
   ]
  },
  {
   "cell_type": "code",
   "execution_count": 56,
   "metadata": {},
   "outputs": [],
   "source": [
    "log_0 = '10.11.1.9 2242.lnsigo.mipt.ru - - [17/Dec/2018:06:17:16 +0300] \"GET /botad558a10-8a7e-48ac-95a2-3cc9aa318dbd1/getUpdates HTTP/1.1\" 200 26 \"-\" \"python-requests/2.16.5\" \"-\"'\n",
    "log_1 = '10.11.1.9 2242.lnsigo.mipt.ru - [17/Dec/2018:06:17:16 +0300] \"GET /botad558a10-8a7e-48ac-95a2-3cc9aa318dbd2/getUpdates HTTP/1.1\" 200 26 \"-\" \"python-requests/2.16.5\" \"-\"'\n",
    "log_2 = '93.158.156.97 2246.lnsigo.mipt.ru - [17/Dec/2018:06:17:16 +0300] \"POST / HTTP/1.1\" 502 568 \"-\" \"YaAlice/1.0.0.0 Chrome/19.0.1084.5409 Safari/536.5\" \"-\"'\n",
    "log_3 = '10.11.1.9 2242.lnsigo.mipt.ru - [17/Dec/2018:06:17:16 +0300] \"GET /botad558a10-8a7e-48ac-95a2-3cc9aa318dbd3/getUpdates HTTP/1.1\" 200 26 \"-\" \"python-requests/2.16.5\" \"-\"'\n",
    "log_ex = f'{log_0}\\n{log_1}\\n{log_2}\\n{log_3}'\n",
    "log_ex_1 = f'{log_0}\\n{log_1}'\n",
    "log_ex_2 = f'{log_2}\\n{log_3}'"
   ]
  },
  {
   "cell_type": "code",
   "execution_count": 65,
   "metadata": {
    "scrolled": true
   },
   "outputs": [],
   "source": [
    "def load_logs(log_file_path: str, row_num: Optional[int] = None, parser: Optional[callable] = None) -> pd.DataFrame:\n",
    "    with open(log_file_path, 'r') as f:\n",
    "        log = f.readlines() if not row_num or row_num < 1 else [f.readline() for _ in range(row_num)]\n",
    "    log_df = pd.DataFrame(data=log, columns=['raw'])\n",
    "    return(log_df)"
   ]
  },
  {
   "cell_type": "code",
   "execution_count": 55,
   "metadata": {},
   "outputs": [],
   "source": [
    "#pattern_main = '^|\\n(\\S+?)\\s(\\S+?)\\s(\\S+?)\\s(\\[.+?\\])\\s(\".+?\")\\s(.+?)\\s(.+?)\\s(\".+?\")\\s(\".+?\")\\s(\".+?\")\\n|$'\n",
    "#pattern_main = '(\\S+?)\\s(\\S+?)\\s(\\S+?)\\s(\\[.+?\\])\\s(\".+?\")\\s(.+?)\\s(.+?)\\s(\".+?\")\\s(\".+?\")\\s(\".+?\")'\n",
    "pattern_main = '^(\\S+?)\\s(\\S+?)\\s(\\S+?)\\s(\\[.+?\\])\\s(\".+?\")\\s(.+?)\\s(.+?)\\s(\".+?\")\\s(\".+?\")\\s(\".+?\")$'"
   ]
  },
  {
   "cell_type": "code",
   "execution_count": 81,
   "metadata": {},
   "outputs": [],
   "source": [
    "def get_item_recursive(search_dict: dict, search_key: 'str') -> Tuple[bool, any]:\n",
    "    if isinstance(search_dict, dict):\n",
    "        if search_key in search_dict.keys():\n",
    "            return True, search_dict[search_key]\n",
    "        else:\n",
    "            for nested_object in search_dict.values():\n",
    "                found, result = get_recursive(nested_object, search_key)\n",
    "                if found:\n",
    "                    return found, result\n",
    "    else:\n",
    "        return False, None"
   ]
  },
  {
   "cell_type": "code",
   "execution_count": 82,
   "metadata": {},
   "outputs": [],
   "source": [
    "def get_keys_recursive(search_dict: dict) -> list:\n",
    "    result = []\n",
    "    if isinstance(search_dict, dict):\n",
    "        for key, value in search_dict.items():\n",
    "            result.append(key)\n",
    "            result.extend(get_keys_recursive(value))\n",
    "    return result"
   ]
  },
  {
   "cell_type": "code",
   "execution_count": 73,
   "metadata": {},
   "outputs": [],
   "source": [
    "class LogDataFrame:\n",
    "    def __init__(self, config: Optional[dict] = None):\n",
    "        self._reserved = ['raw', '_regex', '_columns']\n",
    "        self._config = config or {'raw': {'_regex': None, '_columns': None}}\n",
    "        self._df = pd.DataFrame(columns=['raw'])  #: Optional[pd.DataFrame] = None\n",
    "        self._df_unrec = pd.DataFrame(columns=['raw'])  #: Optional[pd.DataFrame] = None\n",
    "\n",
    "    def __call__(self) -> pd.DataFrame:\n",
    "        pass\n",
    "\n",
    "    def _check_in_reserved(self, name: str) -> None:\n",
    "        if name in self._reserved:\n",
    "            raise ValueError(f'Name \"{name}\" is reserved')\n",
    "            \n",
    "    def _check_in_columns(self, name: str) -> None:\n",
    "        if name in self._df.columns:\n",
    "            raise ValueError(f'Name \"{name}\" is already used as a column name')\n",
    "    \n",
    "    def _apply_config(self, df: pd.DataFrame, raw_column_name: str = 'raw') -> Tuple[pd.DataFrame, pd.DataFrame]:\n",
    "        df = deepcopy(df)\n",
    "        df_unrec = pd.DataFrame(columns=['raw'])\n",
    "\n",
    "        if raw_column_name not in df.columns:\n",
    "            raise ValueError(f'Name {str(column_name)} was not found in input dataframe indexes')\n",
    "        else:\n",
    "            drop_labels = [column for column in df.columns if column != raw_column_name]\n",
    "            df.drop(labels=drop_labels, axis=1, inplace=True)\n",
    "            df.reset_index(drop=True, inplace=True)\n",
    "            df.rename(index=str, columns={raw_column_name: 'raw'})\n",
    "\n",
    "        return df, df_unrec\n",
    "\n",
    "    def add(self, add_data: Union[str, list, pd.DataFrame], raw_column_name: str = 'raw') -> None:\n",
    "        if isinstance(add_data, str):\n",
    "            add_data = add_data.strip('\\n')\n",
    "            add_data = re.sub('\\n+', '\\n', add_data)\n",
    "            add_data = add_data.split('\\n')\n",
    "            add_data = pd.DataFrame(data={'raw': add_data})\n",
    "        elif isinstance(add_data, list):\n",
    "            add_data = pd.DataFrame(data={'raw': add_data})\n",
    "        elif isinstance(add_data, pd.DataFrame):\n",
    "            pass\n",
    "        else:\n",
    "            raise TypeError(f'Wrong type of input data: {type(add_data)}')\n",
    "\n",
    "        df, df_unrec = self._apply_config(add_data)\n",
    "\n",
    "        self._df = self._df.append(other=df, ignore_index=True)\n",
    "        self._df_unrec = self._df_unrec.append(other=df_unrec, ignore_index=True)\n",
    "\n",
    "    def add_file(self, file_path: str) -> None:\n",
    "        file_path: Path = Path(file_path).resolve()\n",
    "\n",
    "        if file_path.is_file():\n",
    "            with file_path.open('r') as f:\n",
    "                log_data = f.readlines()\n",
    "            self.add(log_data)\n",
    "        else:\n",
    "            raise FileNotFoundError(f'Not found file: {file_path}')\n",
    "            \n",
    "    def _apply(self, column: str, regex: str, columns: Optional[List[str]] = None) -> None:\n",
    "        \n",
    "        \n",
    "            \n",
    "        "
   ]
  },
  {
   "cell_type": "code",
   "execution_count": 89,
   "metadata": {},
   "outputs": [
    {
     "name": "stdout",
     "output_type": "stream",
     "text": [
      "{'1'}\n"
     ]
    }
   ],
   "source": [
    "a = {'1', '2', '3'} - {'3', '2', '5'}\n",
    "print(a)"
   ]
  },
  {
   "cell_type": "code",
   "execution_count": 45,
   "metadata": {},
   "outputs": [
    {
     "name": "stdout",
     "output_type": "stream",
     "text": [
      "Empty DataFrame\n",
      "Columns: [raw]\n",
      "Index: []\n",
      "Empty DataFrame\n",
      "Columns: [raw]\n",
      "Index: []\n"
     ]
    }
   ],
   "source": [
    "log_df: LogDataFrame = LogDataFrame()\n",
    "print(log_df._df)\n",
    "print(log_df._df_unrec)"
   ]
  },
  {
   "cell_type": "code",
   "execution_count": 46,
   "metadata": {},
   "outputs": [
    {
     "name": "stdout",
     "output_type": "stream",
     "text": [
      "                                                 raw\n",
      "0  10.11.1.9 2242.lnsigo.mipt.ru - - [17/Dec/2018...\n",
      "1  10.11.1.9 2242.lnsigo.mipt.ru - [17/Dec/2018:0...\n",
      "Empty DataFrame\n",
      "Columns: [raw]\n",
      "Index: []\n"
     ]
    }
   ],
   "source": [
    "log_df.add(log_ex_1)\n",
    "print(log_df._df)\n",
    "print(log_df._df_unrec)"
   ]
  },
  {
   "cell_type": "code",
   "execution_count": 47,
   "metadata": {},
   "outputs": [
    {
     "name": "stdout",
     "output_type": "stream",
     "text": [
      "                                                 raw\n",
      "0  10.11.1.9 2242.lnsigo.mipt.ru - - [17/Dec/2018...\n",
      "1  10.11.1.9 2242.lnsigo.mipt.ru - [17/Dec/2018:0...\n",
      "2  93.158.156.97 2246.lnsigo.mipt.ru - [17/Dec/20...\n",
      "3  10.11.1.9 2242.lnsigo.mipt.ru - [17/Dec/2018:0...\n",
      "Empty DataFrame\n",
      "Columns: [raw]\n",
      "Index: []\n"
     ]
    }
   ],
   "source": [
    "log_df.add(log_ex_2)\n",
    "print(log_df._df)\n",
    "print(log_df._df_unrec)"
   ]
  },
  {
   "cell_type": "code",
   "execution_count": 59,
   "metadata": {},
   "outputs": [],
   "source": [
    "log_df = LogDataFrame()\n",
    "log_df.add(['a', 'b', 'c'])"
   ]
  },
  {
   "cell_type": "code",
   "execution_count": 69,
   "metadata": {},
   "outputs": [
    {
     "name": "stdout",
     "output_type": "stream",
     "text": [
      "10.11.1.9 2242.lnsigo.mipt.ru - [17/Dec/2018:06:17:16 +0300] \"GET /botad558a10-8a7e-48ac-95a2-3cc9aa318dbd2/getUpdates HTTP/1.1\" 200 26 \"-\" \"python-requests/2.16.5\" \"-\"\n",
      "('10.11.1.9', '2242.lnsigo.mipt.ru', '-', '[17/Dec/2018:06:17:16 +0300]', '\"GET /botad558a10-8a7e-48ac-95a2-3cc9aa318dbd2/getUpdates HTTP/1.1\"', '200', '26', '\"-\"', '\"python-requests/2.16.5\"', '\"-\"')\n"
     ]
    }
   ],
   "source": [
    "match = re.search(pattern_main, log_ex, flags = re.MULTILINE)\n",
    "if match:\n",
    "    print(match.group(0))\n",
    "    print(match.groups())"
   ]
  },
  {
   "cell_type": "code",
   "execution_count": 57,
   "metadata": {},
   "outputs": [
    {
     "name": "stdout",
     "output_type": "stream",
     "text": [
      "[('10.11.1.9',\n",
      "  '2242.lnsigo.mipt.ru',\n",
      "  '-',\n",
      "  '[17/Dec/2018:06:17:16 +0300]',\n",
      "  '\"GET /botad558a10-8a7e-48ac-95a2-3cc9aa318dbd2/getUpdates HTTP/1.1\"',\n",
      "  '200',\n",
      "  '26',\n",
      "  '\"-\"',\n",
      "  '\"python-requests/2.16.5\"',\n",
      "  '\"-\"'),\n",
      " ('93.158.156.97',\n",
      "  '2246.lnsigo.mipt.ru',\n",
      "  '-',\n",
      "  '[17/Dec/2018:06:17:16 +0300]',\n",
      "  '\"POST / HTTP/1.1\"',\n",
      "  '502',\n",
      "  '568',\n",
      "  '\"-\"',\n",
      "  '\"YaAlice/1.0.0.0 Chrome/19.0.1084.5409 Safari/536.5\"',\n",
      "  '\"-\"'),\n",
      " ('10.11.1.9',\n",
      "  '2242.lnsigo.mipt.ru',\n",
      "  '-',\n",
      "  '[17/Dec/2018:06:17:16 +0300]',\n",
      "  '\"GET /botad558a10-8a7e-48ac-95a2-3cc9aa318dbd3/getUpdates HTTP/1.1\"',\n",
      "  '200',\n",
      "  '26',\n",
      "  '\"-\"',\n",
      "  '\"python-requests/2.16.5\"',\n",
      "  '\"-\"')]\n"
     ]
    }
   ],
   "source": [
    "found = re.findall(pattern_main, log_ex, flags = re.MULTILINE)\n",
    "pprint(found)"
   ]
  },
  {
   "cell_type": "code",
   "execution_count": 66,
   "metadata": {},
   "outputs": [],
   "source": [
    "log: pd.DataFrame = load_logs(log_file_path=LOG_FILE_PATH, row_num=2)"
   ]
  },
  {
   "cell_type": "code",
   "execution_count": 67,
   "metadata": {},
   "outputs": [
    {
     "name": "stdout",
     "output_type": "stream",
     "text": [
      "                                                 raw\n",
      "0  10.11.1.9 2242.lnsigo.mipt.ru - [16/Dec/2018:0...\n",
      "1  10.11.1.9 2242.lnsigo.mipt.ru - [16/Dec/2018:0...\n"
     ]
    }
   ],
   "source": [
    "print(log.head(5))"
   ]
  },
  {
   "cell_type": "code",
   "execution_count": 68,
   "metadata": {},
   "outputs": [
    {
     "name": "stdout",
     "output_type": "stream",
     "text": [
      "10.11.1.9 2242.lnsigo.mipt.ru - [16/Dec/2018:06:25:12 +0300] \"GET /botad558a10-8a7e-48ac-95a2-3cc9aa318dbd/getUpdates HTTP/1.1\" 200 26 \"-\" \"python-requests/2.16.5\" \"-\"\n",
      "\n"
     ]
    }
   ],
   "source": [
    "log_str = log.iat[0, 0]\n",
    "print(log_str)"
   ]
  },
  {
   "cell_type": "code",
   "execution_count": 69,
   "metadata": {},
   "outputs": [
    {
     "name": "stdout",
     "output_type": "stream",
     "text": [
      "('10.11.1.9', '2242.lnsigo.mipt.ru', '-', '[16/Dec/2018:06:25:12 +0300]', '\"GET /botad558a10-8a7e-48ac-95a2-3cc9aa318dbd/getUpdates HTTP/1.1\"', '200', '26', '\"-\"', '\"python-requests/2.16.5\"', '\"-\"')\n"
     ]
    }
   ],
   "source": [
    "pattern = r'^(\\S+?)\\s(\\S+?)\\s(\\S+?)\\s(\\[.+?\\])\\s(\".+?\")\\s(.+?)\\s(.+?)\\s(\".+?\")\\s(\".+?\")\\s(\".+?\")$'\n",
    "match = re.search(pattern, log_str)\n",
    "if match:\n",
    "    print(match.groups())"
   ]
  },
  {
   "cell_type": "code",
   "execution_count": null,
   "metadata": {},
   "outputs": [],
   "source": []
  }
 ],
 "metadata": {
  "kernelspec": {
   "display_name": "Python 3",
   "language": "python",
   "name": "python3"
  },
  "language_info": {
   "codemirror_mode": {
    "name": "ipython",
    "version": 3
   },
   "file_extension": ".py",
   "mimetype": "text/x-python",
   "name": "python",
   "nbconvert_exporter": "python",
   "pygments_lexer": "ipython3",
   "version": "3.6.3"
  }
 },
 "nbformat": 4,
 "nbformat_minor": 2
}
